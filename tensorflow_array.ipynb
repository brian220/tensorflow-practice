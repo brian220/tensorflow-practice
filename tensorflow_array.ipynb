{
 "cells": [
  {
   "cell_type": "code",
   "execution_count": 9,
   "metadata": {},
   "outputs": [
    {
     "name": "stdout",
     "output_type": "stream",
     "text": [
      "out:\n",
      "[[1.7 2.4 2.9]]\n"
     ]
    }
   ],
   "source": [
    "# Tensorflow's array computation\n",
    "import tensorflow as tf\n",
    "b = tf.Variable([[1., 1. , 1.]])\n",
    "a = tf.Variable([[0.4, 0.6, 0.2],\n",
    "                  [-0.1, 0.3, 0.8],\n",
    "                  [0.4, 0.5, 0.9]])\n",
    "out = tf.matmul(b, a) + b                                                                                                                                                                                                                                                                                                            \n",
    "\n",
    "with tf.Session() as sess:\n",
    "    init = tf.global_variables_initializer()\n",
    "    sess.run(init)\n",
    "    print('out:')\n",
    "    print(sess.run(out))"
   ]
  },
  {
   "cell_type": "code",
   "execution_count": null,
   "metadata": {},
   "outputs": [],
   "source": []
  }
 ],
 "metadata": {
  "kernelspec": {
   "display_name": "Python 3",
   "language": "python",
   "name": "python3"
  },
  "language_info": {
   "codemirror_mode": {
    "name": "ipython",
    "version": 3
   },
   "file_extension": ".py",
   "mimetype": "text/x-python",
   "name": "python",
   "nbconvert_exporter": "python",
   "pygments_lexer": "ipython3",
   "version": "3.5.5"
  }
 },
 "nbformat": 4,
 "nbformat_minor": 2
}
